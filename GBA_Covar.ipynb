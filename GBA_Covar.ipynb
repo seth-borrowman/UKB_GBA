{
 "cells": [
  {
   "cell_type": "code",
   "execution_count": 92,
   "id": "a7506a74",
   "metadata": {},
   "outputs": [],
   "source": [
    "# Import packages\n",
    "import pyspark\n",
    "import dxpy\n",
    "import dxdata\n",
    "from pyspark.sql.functions import concat_ws"
   ]
  },
  {
   "cell_type": "code",
   "execution_count": 2,
   "id": "a37df88b",
   "metadata": {},
   "outputs": [],
   "source": [
    "# Spark initialization (Done only once; do not rerun this cell unless you select Kernel -> Restart kernel).\n",
    "sc = pyspark.SparkContext()\n",
    "spark = pyspark.sql.SparkSession(sc)"
   ]
  },
  {
   "cell_type": "code",
   "execution_count": 3,
   "id": "db027247",
   "metadata": {},
   "outputs": [],
   "source": [
    "# Automatically discover dispensed database name and dataset id\n",
    "dispensed_database = dxpy.find_one_data_object(\n",
    "    classname='database', \n",
    "    name='app*', \n",
    "    folder='/', \n",
    "    name_mode='glob', \n",
    "    describe=True)\n",
    "dispensed_database_name = dispensed_database['describe']['name']\n",
    "\n",
    "dispensed_dataset = dxpy.find_one_data_object(\n",
    "    typename='Dataset', \n",
    "    name='app*.dataset', \n",
    "    folder='/', \n",
    "    name_mode='glob')\n",
    "dispensed_dataset_id = dispensed_dataset['id']"
   ]
  },
  {
   "cell_type": "code",
   "execution_count": 4,
   "id": "13c9d6c9",
   "metadata": {},
   "outputs": [],
   "source": [
    "# Load dataset\n",
    "dataset = dxdata.load_dataset(id=dispensed_dataset_id)\n",
    "engine = dxdata.connect()\n",
    "dataset.entities\n",
    "participant = dataset[\"participant\"]"
   ]
  },
  {
   "cell_type": "code",
   "execution_count": 5,
   "id": "3ab80df7",
   "metadata": {},
   "outputs": [],
   "source": [
    "# Create function to look up fields based on the field ID\n",
    "def fields_for_id(field_id):\n",
    "    from distutils.version import LooseVersion\n",
    "    field_id = str(field_id)\n",
    "    fields = participant.find_fields(name_regex=r'^p{}(_i\\d+)?(_a\\d+)?$'.format(field_id))\n",
    "    return sorted(fields, key=lambda f: LooseVersion(f.name))\n",
    "\n",
    "def field_names_for_id(field_id):\n",
    "    return [f.name for f in fields_for_id(field_id)]"
   ]
  },
  {
   "cell_type": "code",
   "execution_count": 19,
   "id": "524c0005",
   "metadata": {},
   "outputs": [
    {
     "data": {
      "text/plain": [
       "<bound method DataFrame.head of DataFrame[eid: string, p34: bigint, p40000_i0: date, p40000_i1: date, p22189: double, p31: string, p21001_i0: double, p21001_i1: double, p21001_i2: double, p21001_i3: double, p1558_i0: string, p1558_i1: string, p1558_i2: string, p1558_i3: string, p20160_i0: string, p20160_i1: string, p20160_i2: string, p20160_i3: string, p20161_i0: double, p20161_i1: double, p20161_i2: double, p20161_i3: double, p50_i0: double, p50_i1: double, p50_i2: double, p50_i3: double]>"
      ]
     },
     "execution_count": 19,
     "metadata": {},
     "output_type": "execute_result"
    }
   ],
   "source": [
    "# Add all relevant fields for outcome and covariates\n",
    "field_names = [\"eid\"] + field_names_for_id(34) + field_names_for_id(40000) + field_names_for_id(22189) + field_names_for_id(31) + field_names_for_id(21001) + field_names_for_id(1558) + field_names_for_id(20160) + field_names_for_id(20161) + field_names_for_id(50)\n",
    "df = participant.retrieve_fields(names=field_names, engine=dxdata.connect(), coding_values=\"replace\")\n",
    "df.head"
   ]
  },
  {
   "cell_type": "code",
   "execution_count": 20,
   "id": "f7b0da9c",
   "metadata": {},
   "outputs": [],
   "source": [
    "df_pandas = df.toPandas()\n",
    "df_pandas.head()\n",
    "df_pandas.to_csv('GBACovar.csv', index=False)"
   ]
  },
  {
   "cell_type": "code",
   "execution_count": 109,
   "id": "80960008",
   "metadata": {},
   "outputs": [],
   "source": [
    "icd10_tbi_field_names = [\"eid\"] + field_names_for_id(41270)\n",
    "icd10 = participant.retrieve_fields(names=icd10_tbi_field_names, engine=dxdata.connect(), coding_values=\"replace\")\n",
    "icd9_tbi_field_names = [\"eid\"] + field_names_for_id(41271)\n",
    "icd9 = participant.retrieve_fields(names=icd9_tbi_field_names, engine=dxdata.connect(), coding_values=\"replace\")\n",
    "icd10 = icd10.withColumn('p41270', concat_ws(',', 'p41270'))\n",
    "icd9 = icd9.withColumn('p41271', concat_ws(',', 'p41271'))"
   ]
  },
  {
   "cell_type": "code",
   "execution_count": 110,
   "id": "c1fdb958",
   "metadata": {},
   "outputs": [],
   "source": [
    "#icd10codes = [\"S02%\", \"S04%\", \"S06%\", \"S07%\", \"T74%\"]\n",
    "icd10.createOrReplaceTempView(\"icd10\")\n",
    "icd10_new = spark.sql(\"SELECT eid FROM icd10 WHERE p41270 LIKE '%S02%' OR p41270 LIKE '%S04%' OR p41270 LIKE '%S06%' OR p41270 LIKE '%S07%' OR p41270 LIKE '%T74%'\")"
   ]
  },
  {
   "cell_type": "code",
   "execution_count": 111,
   "id": "f7951c0a",
   "metadata": {},
   "outputs": [],
   "source": [
    "#icd9codes = [\"800.\", \"801.\", \"803.\", \"804.\", \"850.\", \"950.1\", \"950.2\", \"950.3\", \"959.01\", \"995.55\"]\n",
    "icd9.createOrReplaceTempView(\"icd9\")\n",
    "icd9_new = spark.sql(\"SELECT eid FROM icd9 WHERE p41271 LIKE '%800.%' OR p41271 LIKE '%801.%' OR p41271 LIKE '%803.%' OR p41271 LIKE '%804.%' OR p41271 LIKE '%850.%' OR p41271 LIKE '%950.1%' OR p41271 LIKE '%950.2%' OR p41271 LIKE '%950.3%' OR p41271 LIKE '%959.01%' OR p41271 LIKE '%995.55%'\")"
   ]
  },
  {
   "cell_type": "code",
   "execution_count": 112,
   "id": "4577ef1f",
   "metadata": {},
   "outputs": [],
   "source": [
    "icd10_pandas = icd10_new.toPandas()\n",
    "icd9_pandas = icd9_new.toPandas()\n",
    "icd10_pandas.to_csv('TBI_ICD10.csv', index = False)\n",
    "icd9_pandas.to_csv('TBI_ICD9.csv', index = False)"
   ]
  },
  {
   "cell_type": "code",
   "execution_count": null,
   "id": "f58b11dc",
   "metadata": {},
   "outputs": [],
   "source": [
    "dxpy.upload_local_file('GBACovar.csv')\n",
    "dxpy.upload_local_file('TBI_ICD10.csv')\n",
    "dxpy.upload_local_file('StrokeData.csv')"
   ]
  }
 ],
 "metadata": {
  "kernelspec": {
   "display_name": "Python 3",
   "language": "python",
   "name": "python3"
  },
  "language_info": {
   "codemirror_mode": {
    "name": "ipython",
    "version": 3
   },
   "file_extension": ".py",
   "mimetype": "text/x-python",
   "name": "python",
   "nbconvert_exporter": "python",
   "pygments_lexer": "ipython3",
   "version": "3.6.5"
  }
 },
 "nbformat": 4,
 "nbformat_minor": 5
}
